{
 "cells": [
  {
   "cell_type": "code",
   "execution_count": null,
   "id": "0a5a5013",
   "metadata": {},
   "outputs": [],
   "source": [
    "import pandas as pd\n",
    "import numpy as np\n",
    "import re\n",
    "import nltk \n",
    "nltk.download('stopwords')\n",
    "from nltk.corpus import stopwords\n",
    "from sklearn.model_selection import GridSearchCV\n",
    "from sklearn.pipeline import Pipeline\n",
    "from sklearn.linear_model import LogisticRegression\n",
    "from sklearn.svm import LinearSVC\n",
    "from sklearn.feature_extraction.text import TfidfVectorizer\n",
    "from sklearn.model_selection import train_test_split"
   ]
  },
  {
   "cell_type": "markdown",
   "id": "b0d122fb",
   "metadata": {},
   "source": [
    "# Data Preparation"
   ]
  },
  {
   "cell_type": "code",
   "execution_count": null,
   "id": "b6faf95d",
   "metadata": {},
   "outputs": [],
   "source": [
    "# Creating a data frame from the movie data set\n",
    "df=pd.read_csv('movie_data.csv', encoding='utf-8')\n",
    "df.head(3)"
   ]
  },
  {
   "cell_type": "code",
   "execution_count": null,
   "id": "9758e14e",
   "metadata": {},
   "outputs": [],
   "source": [
    "# How many reviews exist in the data set?\n",
    "df.shape"
   ]
  },
  {
   "cell_type": "code",
   "execution_count": null,
   "id": "0f705ceb",
   "metadata": {},
   "outputs": [],
   "source": [
    "# Are there any special charaters in the reviews?\n",
    "df.loc[0,'review'][-50:]"
   ]
  },
  {
   "cell_type": "code",
   "execution_count": null,
   "id": "e7168357",
   "metadata": {},
   "outputs": [],
   "source": [
    "# Creating a function for removal of special characters and html while keeping emoticons\n",
    "def preprocessor(text):\n",
    "    text=re.sub('<[^>]*>', '',text)\n",
    "    emoticons= re.findall('(?::|;|=)(?:-)?(?:\\)|\\(|D|P)', text)\n",
    "    text=re.sub('[\\W]+', ' ', text.lower())+' '.join(emoticons).replace('-','')\n",
    "    return text"
   ]
  },
  {
   "cell_type": "code",
   "execution_count": null,
   "id": "d5e210a7",
   "metadata": {},
   "outputs": [],
   "source": [
    "# Testing the preprpocessor\n",
    "preprocessor(df.loc[0,'review'][-50:])"
   ]
  },
  {
   "cell_type": "code",
   "execution_count": null,
   "id": "e346890a",
   "metadata": {},
   "outputs": [],
   "source": [
    "# Applying preprocessor on the reviews in the data set\n",
    "df['review']=df['review'].apply(preprocessor)"
   ]
  },
  {
   "cell_type": "code",
   "execution_count": null,
   "id": "e7779a2b",
   "metadata": {},
   "outputs": [],
   "source": [
    "# Creating a tokenizer function\n",
    "def tokenizer(text):\n",
    "    return text.split()"
   ]
  },
  {
   "cell_type": "code",
   "execution_count": null,
   "id": "06f062e6",
   "metadata": {},
   "outputs": [],
   "source": [
    "stop=stopwords.words('english')"
   ]
  },
  {
   "cell_type": "markdown",
   "id": "28574bdc",
   "metadata": {},
   "source": [
    "# Model Selection"
   ]
  },
  {
   "cell_type": "code",
   "execution_count": null,
   "id": "3fb6709e",
   "metadata": {},
   "outputs": [],
   "source": [
    "# Dividing the data set for training and testing\n",
    "X_train, X_test, y_train, y_test = train_test_split(df.loc[:,'review'], df.loc[:,'sentiment'], test_size=0.2, random_state=1)"
   ]
  },
  {
   "cell_type": "code",
   "execution_count": null,
   "id": "8a9fb96a",
   "metadata": {},
   "outputs": [],
   "source": [
    "# Comparing logistic regression and support vector machines for the classification task at hand and optimizing \n",
    "# the respective hyperparameters    \n",
    "\n",
    "tfidf = TfidfVectorizer(lowercase=False)\n",
    "\n",
    "pipeline = Pipeline([\n",
    "    ('vect', tfidf),\n",
    "    ('clf', None),\n",
    "])\n",
    "\n",
    "parameters = [\n",
    "    {\n",
    "        'vect__stop_words':[stop, None],\n",
    "        'vect__tokenizer':[tokenizer],\n",
    "        'clf':[LinearSVC(random_state=0, dual=False, max_iter=10000)], \n",
    "        'clf__C':[0.1,1, 10, 100]\n",
    "        \n",
    "    },\n",
    "    {\n",
    "        'vect__stop_words':[stop, None],\n",
    "        'vect__tokenizer':[tokenizer],\n",
    "        'vect__use_idf':[False],\n",
    "        'vect__smooth_idf':[False],\n",
    "        'vect__norm':[None],\n",
    "        'clf':[LinearSVC(random_state=0, dual=False, max_iter=10000)], \n",
    "        'clf__C':[0.1,1, 10, 100]\n",
    "                \n",
    "    },\n",
    "    {\n",
    "        'vect__stop_words':[stop, None],\n",
    "        'vect__tokenizer':[tokenizer],\n",
    "        'clf': [LogisticRegression(random_state=0, solver='liblinear')], \n",
    "        'clf__penalty':['l1', 'l2'],\n",
    "        'clf__C':[1.0, 10.0, 100.0]\n",
    "        \n",
    "    },\n",
    "    {\n",
    "        'vect__stop_words':[stop, None],\n",
    "        'vect__tokenizer':[tokenizer],\n",
    "        'vect__use_idf':[False],\n",
    "        'vect__smooth_idf':[False],\n",
    "        'vect__norm':[None],\n",
    "        'clf': [LogisticRegression(random_state=0, solver='liblinear')], \n",
    "        'clf__penalty':['l1', 'l2'],\n",
    "        'clf__C':[1.0, 10.0, 100.0]\n",
    "        \n",
    "        \n",
    "    }\n",
    "    \n",
    "]\n",
    "\n",
    "gscv = GridSearchCV(pipeline, parameters, cv=5, n_jobs=1, scoring='accuracy', verbose=3)\n",
    "gscv.fit(X_train, y_train) "
   ]
  },
  {
   "cell_type": "code",
   "execution_count": null,
   "id": "3c75a6ab",
   "metadata": {},
   "outputs": [],
   "source": [
    "# What is the best model?\n",
    "print('best model: %s ' %gscv.best_params_)"
   ]
  },
  {
   "cell_type": "code",
   "execution_count": null,
   "id": "19af31ec",
   "metadata": {},
   "outputs": [],
   "source": [
    "# Average accuracy score of the best model determined through grid search (using a fivefold cross validation) \n",
    "# Accuracy score of the best model for the test dataset\n",
    "\n",
    "print('CV-accuracy: %.3f'% gscv.best_score_)\n",
    "clf = gscv.best_estimator_\n",
    "print('accuracy test: %.3f'% clf.score(X_test, y_test))\n"
   ]
  },
  {
   "cell_type": "code",
   "execution_count": null,
   "id": "36aaed84",
   "metadata": {},
   "outputs": [],
   "source": [
    "# Utilizing the model in a hypothecial example\n",
    "label={0:'negative', 1:'positive'}\n",
    "example=[\"I didn't like the movie. It didn't follow the story of the book that it's based on\"]\n",
    "print('Prediction: %s\\nProbability: %.2f%%' %\\\n",
    "     (label[clf.predict(example)[0]],\n",
    "     np.max(clf.predict_proba(example))*100))"
   ]
  }
 ],
 "metadata": {
  "kernelspec": {
   "display_name": "Python 3 (ipykernel)",
   "language": "python",
   "name": "python3"
  },
  "language_info": {
   "codemirror_mode": {
    "name": "ipython",
    "version": 3
   },
   "file_extension": ".py",
   "mimetype": "text/x-python",
   "name": "python",
   "nbconvert_exporter": "python",
   "pygments_lexer": "ipython3",
   "version": "3.8.11"
  },
  "toc": {
   "base_numbering": 1,
   "nav_menu": {},
   "number_sections": true,
   "sideBar": true,
   "skip_h1_title": false,
   "title_cell": "Table of Contents",
   "title_sidebar": "Contents",
   "toc_cell": false,
   "toc_position": {},
   "toc_section_display": true,
   "toc_window_display": true
  }
 },
 "nbformat": 4,
 "nbformat_minor": 5
}
